{
 "cells": [
  {
   "cell_type": "code",
   "execution_count": 46,
   "metadata": {},
   "outputs": [],
   "source": [
    "import pandas as pd\n",
    "import numpy as np\n",
    "import os.path"
   ]
  },
  {
   "cell_type": "code",
   "execution_count": 47,
   "metadata": {},
   "outputs": [
    {
     "data": {
      "text/html": [
       "<div>\n",
       "<style scoped>\n",
       "    .dataframe tbody tr th:only-of-type {\n",
       "        vertical-align: middle;\n",
       "    }\n",
       "\n",
       "    .dataframe tbody tr th {\n",
       "        vertical-align: top;\n",
       "    }\n",
       "\n",
       "    .dataframe thead th {\n",
       "        text-align: right;\n",
       "    }\n",
       "</style>\n",
       "<table border=\"1\" class=\"dataframe\">\n",
       "  <thead>\n",
       "    <tr style=\"text-align: right;\">\n",
       "      <th></th>\n",
       "      <th>Make</th>\n",
       "      <th>Model</th>\n",
       "      <th>CC</th>\n",
       "      <th>Used since</th>\n",
       "      <th>Km</th>\n",
       "      <th>Transmission</th>\n",
       "      <th>City</th>\n",
       "      <th>Color</th>\n",
       "      <th>Body Style</th>\n",
       "      <th>Fuel</th>\n",
       "      <th>...</th>\n",
       "      <th>Alloy wheels</th>\n",
       "      <th>Rear camera</th>\n",
       "      <th>GPS</th>\n",
       "      <th>Fog light</th>\n",
       "      <th>Rear spoiler</th>\n",
       "      <th>Cruise control</th>\n",
       "      <th>Power Seats</th>\n",
       "      <th>Central lock</th>\n",
       "      <th>Alarm</th>\n",
       "      <th>Price</th>\n",
       "    </tr>\n",
       "  </thead>\n",
       "  <tbody>\n",
       "    <tr>\n",
       "      <th>0</th>\n",
       "      <td>Skoda</td>\n",
       "      <td>Rapid</td>\n",
       "      <td>NaN</td>\n",
       "      <td>2014.0</td>\n",
       "      <td>89,000 Km</td>\n",
       "      <td>automatic</td>\n",
       "      <td>Nasr city</td>\n",
       "      <td>Black</td>\n",
       "      <td>NaN</td>\n",
       "      <td>gas</td>\n",
       "      <td>...</td>\n",
       "      <td>False</td>\n",
       "      <td>False</td>\n",
       "      <td>False</td>\n",
       "      <td>True</td>\n",
       "      <td>False</td>\n",
       "      <td>False</td>\n",
       "      <td>True</td>\n",
       "      <td>True</td>\n",
       "      <td>True</td>\n",
       "      <td>225,000 EGP</td>\n",
       "    </tr>\n",
       "    <tr>\n",
       "      <th>1</th>\n",
       "      <td>Skoda</td>\n",
       "      <td>Octavia A7</td>\n",
       "      <td>NaN</td>\n",
       "      <td>2015.0</td>\n",
       "      <td>120,000 Km</td>\n",
       "      <td>automatic</td>\n",
       "      <td>Cairo</td>\n",
       "      <td>Blue</td>\n",
       "      <td>NaN</td>\n",
       "      <td>gas</td>\n",
       "      <td>...</td>\n",
       "      <td>True</td>\n",
       "      <td>True</td>\n",
       "      <td>True</td>\n",
       "      <td>True</td>\n",
       "      <td>True</td>\n",
       "      <td>True</td>\n",
       "      <td>True</td>\n",
       "      <td>True</td>\n",
       "      <td>True</td>\n",
       "      <td>295,000 EGP</td>\n",
       "    </tr>\n",
       "    <tr>\n",
       "      <th>2</th>\n",
       "      <td>Renault</td>\n",
       "      <td>Sandero</td>\n",
       "      <td>NaN</td>\n",
       "      <td>2016.0</td>\n",
       "      <td>70,000 Km</td>\n",
       "      <td>automatic</td>\n",
       "      <td>El Haram</td>\n",
       "      <td>Red</td>\n",
       "      <td>NaN</td>\n",
       "      <td>gas</td>\n",
       "      <td>...</td>\n",
       "      <td>False</td>\n",
       "      <td>False</td>\n",
       "      <td>False</td>\n",
       "      <td>False</td>\n",
       "      <td>False</td>\n",
       "      <td>False</td>\n",
       "      <td>False</td>\n",
       "      <td>False</td>\n",
       "      <td>False</td>\n",
       "      <td>200,000 EGP</td>\n",
       "    </tr>\n",
       "    <tr>\n",
       "      <th>3</th>\n",
       "      <td>MG</td>\n",
       "      <td>ZS</td>\n",
       "      <td>NaN</td>\n",
       "      <td>2020.0</td>\n",
       "      <td>21,000 Km</td>\n",
       "      <td>automatic</td>\n",
       "      <td>El Haram</td>\n",
       "      <td>Red</td>\n",
       "      <td>NaN</td>\n",
       "      <td>gas</td>\n",
       "      <td>...</td>\n",
       "      <td>True</td>\n",
       "      <td>False</td>\n",
       "      <td>True</td>\n",
       "      <td>True</td>\n",
       "      <td>False</td>\n",
       "      <td>True</td>\n",
       "      <td>True</td>\n",
       "      <td>True</td>\n",
       "      <td>True</td>\n",
       "      <td>360,000 EGP</td>\n",
       "    </tr>\n",
       "    <tr>\n",
       "      <th>4</th>\n",
       "      <td>MG</td>\n",
       "      <td>5</td>\n",
       "      <td>NaN</td>\n",
       "      <td>2021.0</td>\n",
       "      <td>28,000 Km</td>\n",
       "      <td>automatic</td>\n",
       "      <td>El Haram</td>\n",
       "      <td>Red</td>\n",
       "      <td>NaN</td>\n",
       "      <td>gas</td>\n",
       "      <td>...</td>\n",
       "      <td>True</td>\n",
       "      <td>False</td>\n",
       "      <td>False</td>\n",
       "      <td>True</td>\n",
       "      <td>False</td>\n",
       "      <td>False</td>\n",
       "      <td>True</td>\n",
       "      <td>False</td>\n",
       "      <td>True</td>\n",
       "      <td>340,000 EGP</td>\n",
       "    </tr>\n",
       "  </tbody>\n",
       "</table>\n",
       "<p>5 rows × 51 columns</p>\n",
       "</div>"
      ],
      "text/plain": [
       "      Make       Model   CC  Used since          Km Transmission       City  \\\n",
       "0    Skoda       Rapid  NaN      2014.0   89,000 Km    automatic  Nasr city   \n",
       "1    Skoda  Octavia A7  NaN      2015.0  120,000 Km    automatic      Cairo   \n",
       "2  Renault     Sandero  NaN      2016.0   70,000 Km    automatic   El Haram   \n",
       "3       MG          ZS  NaN      2020.0   21,000 Km    automatic   El Haram   \n",
       "4       MG           5  NaN      2021.0   28,000 Km    automatic   El Haram   \n",
       "\n",
       "   Color Body Style Fuel  ...  Alloy wheels  Rear camera    GPS  Fog light  \\\n",
       "0  Black        NaN  gas  ...         False        False  False       True   \n",
       "1   Blue        NaN  gas  ...          True         True   True       True   \n",
       "2    Red        NaN  gas  ...         False        False  False      False   \n",
       "3    Red        NaN  gas  ...          True        False   True       True   \n",
       "4    Red        NaN  gas  ...          True        False  False       True   \n",
       "\n",
       "   Rear spoiler  Cruise control  Power Seats  Central lock  Alarm        Price  \n",
       "0         False           False         True          True   True  225,000 EGP  \n",
       "1          True            True         True          True   True  295,000 EGP  \n",
       "2         False           False        False         False  False  200,000 EGP  \n",
       "3         False            True         True          True   True  360,000 EGP  \n",
       "4         False           False         True         False   True  340,000 EGP  \n",
       "\n",
       "[5 rows x 51 columns]"
      ]
     },
     "execution_count": 47,
     "metadata": {},
     "output_type": "execute_result"
    }
   ],
   "source": [
    "data = pd.read_csv('cars.csv',encoding='latin-1')\n",
    "data.head()"
   ]
  },
  {
   "cell_type": "code",
   "execution_count": 48,
   "metadata": {},
   "outputs": [
    {
     "name": "stdout",
     "output_type": "stream",
     "text": [
      "There are 38611 rows and 51 columns\n"
     ]
    }
   ],
   "source": [
    "print(f'There are {data.shape[0]} rows and {data.shape[1]} columns')"
   ]
  },
  {
   "cell_type": "code",
   "execution_count": 49,
   "metadata": {},
   "outputs": [
    {
     "name": "stdout",
     "output_type": "stream",
     "text": [
      "<class 'pandas.core.frame.DataFrame'>\n",
      "RangeIndex: 38611 entries, 0 to 38610\n",
      "Data columns (total 51 columns):\n",
      " #   Column                      Non-Null Count  Dtype  \n",
      "---  ------                      --------------  -----  \n",
      " 0   Make                        37745 non-null  object \n",
      " 1   Model                       37745 non-null  object \n",
      " 2   CC                          19067 non-null  object \n",
      " 3   Used since                  37745 non-null  float64\n",
      " 4   Km                          37745 non-null  object \n",
      " 5   Transmission                37745 non-null  object \n",
      " 6   City                        37745 non-null  object \n",
      " 7   Color                       37745 non-null  object \n",
      " 8   Body Style                  21285 non-null  object \n",
      " 9   Fuel                        37745 non-null  object \n",
      " 10  Leather seats               38611 non-null  bool   \n",
      " 11  Closing mirrors             38611 non-null  bool   \n",
      " 12  Intelligent parking system  38611 non-null  bool   \n",
      " 13  Sunroof                     38611 non-null  bool   \n",
      " 14  Fabric brushes              38611 non-null  bool   \n",
      " 15  Air Conditioning            38611 non-null  bool   \n",
      " 16  Power Steering              38611 non-null  bool   \n",
      " 17  Remote Keyless              38611 non-null  bool   \n",
      " 18  Electric mirrors            38611 non-null  bool   \n",
      " 19  Front Power Windows         38611 non-null  bool   \n",
      " 20  Back Power Windows          38611 non-null  bool   \n",
      " 21  Tinted Glass                38611 non-null  bool   \n",
      " 22  CD Player                   38611 non-null  bool   \n",
      " 23  DVD Player                  38611 non-null  bool   \n",
      " 24  Bluetooth                   38611 non-null  bool   \n",
      " 25  Multifunction               38611 non-null  bool   \n",
      " 26  Cassette Radio              38611 non-null  bool   \n",
      " 27  AUX                         38611 non-null  bool   \n",
      " 28  CD Changer                  38611 non-null  bool   \n",
      " 29  USB Port                    38611 non-null  bool   \n",
      " 30  Anti - theft System         38611 non-null  bool   \n",
      " 31  Side Airbag                 38611 non-null  bool   \n",
      " 32  ABS                         38611 non-null  bool   \n",
      " 33  EPS                         38611 non-null  bool   \n",
      " 34  EBD                         38611 non-null  bool   \n",
      " 35  ESP                         38611 non-null  bool   \n",
      " 36  Sensors                     38611 non-null  bool   \n",
      " 37  Rear sensors                38611 non-null  bool   \n",
      " 38  Driver Airbag               38611 non-null  bool   \n",
      " 39  Passenger Airbag            38611 non-null  bool   \n",
      " 40  Front sensors               38611 non-null  bool   \n",
      " 41  Alloy wheels                38611 non-null  bool   \n",
      " 42  Rear camera                 38611 non-null  bool   \n",
      " 43  GPS                         38611 non-null  bool   \n",
      " 44  Fog light                   38611 non-null  bool   \n",
      " 45  Rear spoiler                38611 non-null  bool   \n",
      " 46  Cruise control              38611 non-null  bool   \n",
      " 47  Power Seats                 38611 non-null  bool   \n",
      " 48  Central lock                38611 non-null  bool   \n",
      " 49  Alarm                       38611 non-null  bool   \n",
      " 50  Price                       37745 non-null  object \n",
      "dtypes: bool(40), float64(1), object(10)\n",
      "memory usage: 4.7+ MB\n"
     ]
    }
   ],
   "source": [
    "data.info()"
   ]
  },
  {
   "cell_type": "markdown",
   "metadata": {},
   "source": [
    "there are many null values in our dataset , we have 40 Boolean Column and 10 objects"
   ]
  },
  {
   "cell_type": "code",
   "execution_count": 50,
   "metadata": {},
   "outputs": [
    {
     "data": {
      "text/plain": [
       "Make                            866\n",
       "Model                           866\n",
       "CC                            19544\n",
       "Used since                      866\n",
       "Km                              866\n",
       "Transmission                    866\n",
       "City                            866\n",
       "Color                           866\n",
       "Body Style                    17326\n",
       "Fuel                            866\n",
       "Leather seats                     0\n",
       "Closing mirrors                   0\n",
       "Intelligent parking system        0\n",
       "Sunroof                           0\n",
       "Fabric brushes                    0\n",
       "Air Conditioning                  0\n",
       "Power Steering                    0\n",
       "Remote Keyless                    0\n",
       "Electric mirrors                  0\n",
       "Front Power Windows               0\n",
       "Back Power Windows                0\n",
       "Tinted Glass                      0\n",
       "CD Player                         0\n",
       "DVD Player                        0\n",
       "Bluetooth                         0\n",
       "Multifunction                     0\n",
       "Cassette Radio                    0\n",
       "AUX                               0\n",
       "CD Changer                        0\n",
       "USB Port                          0\n",
       "Anti - theft System               0\n",
       "Side Airbag                       0\n",
       "ABS                               0\n",
       "EPS                               0\n",
       "EBD                               0\n",
       "ESP                               0\n",
       "Sensors                           0\n",
       "Rear sensors                      0\n",
       "Driver Airbag                     0\n",
       "Passenger Airbag                  0\n",
       "Front sensors                     0\n",
       "Alloy wheels                      0\n",
       "Rear camera                       0\n",
       "GPS                               0\n",
       "Fog light                         0\n",
       "Rear spoiler                      0\n",
       "Cruise control                    0\n",
       "Power Seats                       0\n",
       "Central lock                      0\n",
       "Alarm                             0\n",
       "Price                           866\n",
       "dtype: int64"
      ]
     },
     "execution_count": 50,
     "metadata": {},
     "output_type": "execute_result"
    }
   ],
   "source": [
    "data.isnull().sum()"
   ]
  },
  {
   "cell_type": "markdown",
   "metadata": {},
   "source": [
    "we have 866 null values in price Columns , let's drop it"
   ]
  },
  {
   "cell_type": "code",
   "execution_count": 51,
   "metadata": {},
   "outputs": [],
   "source": [
    "data = data[data['Price'].notna()]"
   ]
  },
  {
   "cell_type": "code",
   "execution_count": 52,
   "metadata": {},
   "outputs": [
    {
     "data": {
      "text/plain": [
       "Make                              0\n",
       "Model                             0\n",
       "CC                            18678\n",
       "Used since                        0\n",
       "Km                                0\n",
       "Transmission                      0\n",
       "City                              0\n",
       "Color                             0\n",
       "Body Style                    16460\n",
       "Fuel                              0\n",
       "Leather seats                     0\n",
       "Closing mirrors                   0\n",
       "Intelligent parking system        0\n",
       "Sunroof                           0\n",
       "Fabric brushes                    0\n",
       "Air Conditioning                  0\n",
       "Power Steering                    0\n",
       "Remote Keyless                    0\n",
       "Electric mirrors                  0\n",
       "Front Power Windows               0\n",
       "Back Power Windows                0\n",
       "Tinted Glass                      0\n",
       "CD Player                         0\n",
       "DVD Player                        0\n",
       "Bluetooth                         0\n",
       "Multifunction                     0\n",
       "Cassette Radio                    0\n",
       "AUX                               0\n",
       "CD Changer                        0\n",
       "USB Port                          0\n",
       "Anti - theft System               0\n",
       "Side Airbag                       0\n",
       "ABS                               0\n",
       "EPS                               0\n",
       "EBD                               0\n",
       "ESP                               0\n",
       "Sensors                           0\n",
       "Rear sensors                      0\n",
       "Driver Airbag                     0\n",
       "Passenger Airbag                  0\n",
       "Front sensors                     0\n",
       "Alloy wheels                      0\n",
       "Rear camera                       0\n",
       "GPS                               0\n",
       "Fog light                         0\n",
       "Rear spoiler                      0\n",
       "Cruise control                    0\n",
       "Power Seats                       0\n",
       "Central lock                      0\n",
       "Alarm                             0\n",
       "Price                             0\n",
       "dtype: int64"
      ]
     },
     "execution_count": 52,
     "metadata": {},
     "output_type": "execute_result"
    }
   ],
   "source": [
    "# checking \n",
    "data.isnull().sum()"
   ]
  },
  {
   "cell_type": "code",
   "execution_count": 74,
   "metadata": {},
   "outputs": [],
   "source": [
    "def show_column_details(col):\n",
    "    global data\n",
    "    print(f'for feature {col} and it type is {data[col].dtype}')\n",
    "    print(f'Number of Nulls is {data[col].isna().sum()}')\n",
    "    print(f'Number of Unique Values is {len(data[col].unique())}')\n",
    "    print(f'Random Value is {data[col][np.random.randint(data.shape[0])]}')\n",
    "    print(f'Random Value is {data[col][np.random.randint(data.shape[0])]}')\n",
    "    print(f'Random Value is {data[col][np.random.randint(data.shape[0])]}')\n",
    "    print('\\n==================================')"
   ]
  },
  {
   "cell_type": "code",
   "execution_count": 75,
   "metadata": {},
   "outputs": [
    {
     "name": "stdout",
     "output_type": "stream",
     "text": [
      "for feature Make and it type is object\n",
      "Number of Nulls is 0\n",
      "Number of Unique Values is 82\n",
      "Random Value is Chevrolet\n",
      "Random Value is Daewoo\n",
      "Random Value is Peugeot\n",
      "\n",
      "==================================\n"
     ]
    }
   ],
   "source": [
    "show_column_details('Make')"
   ]
  },
  {
   "cell_type": "markdown",
   "metadata": {},
   "source": [
    "there are many categorical unique values in \"Make\" Columns therefore we will handle it useing label encoder "
   ]
  },
  {
   "cell_type": "code",
   "execution_count": 76,
   "metadata": {},
   "outputs": [
    {
     "name": "stdout",
     "output_type": "stream",
     "text": [
      "for feature Model and it type is object\n",
      "Number of Nulls is 0\n",
      "Number of Unique Values is 691\n",
      "Random Value is 131\n",
      "Random Value is Nubira 2\n",
      "Random Value is Arrizo 5\n",
      "\n",
      "==================================\n"
     ]
    }
   ],
   "source": [
    "show_column_details('Model')"
   ]
  },
  {
   "cell_type": "code",
   "execution_count": 77,
   "metadata": {},
   "outputs": [
    {
     "name": "stdout",
     "output_type": "stream",
     "text": [
      "for feature CC and it type is int32\n",
      "Number of Nulls is 0\n",
      "Number of Unique Values is 107\n",
      "Random Value is 0\n",
      "Random Value is 0\n",
      "Random Value is 0\n",
      "\n",
      "==================================\n"
     ]
    }
   ],
   "source": [
    "show_column_details('CC')"
   ]
  },
  {
   "cell_type": "code",
   "execution_count": 78,
   "metadata": {},
   "outputs": [
    {
     "data": {
      "text/plain": [
       "array([   0, 1600, 1400, 2000, 1500, 1300, 1200, 1000, 1100, 2500, 3000,\n",
       "       4400, 4700, 2002, 1800,  900, 4000,  950, 3700, 3500,  800, 2300,\n",
       "       2700, 2200, 3800, 1989, 3750, 1399, 3400, 4100, 4800, 3646, 1250,\n",
       "       2800, 1398, 4500, 3200, 5700, 2600, 3600, 2900, 6000, 2400, 5200,\n",
       "       1599, 1716, 1116, 1900, 2019, 1998, 4200, 1999, 1550, 1323,  995,\n",
       "       1598, 1897, 1489, 3300, 1992, 5600, 3190,  850, 1139, 2127, 1295,\n",
       "       1700, 5400, 1490,  970, 5800, 1050, 1850, 1572, 2609, 4570, 1970,\n",
       "       1150, 5000, 4600, 1595, 5900, 2100, 3100, 1350, 3181, 1993, 1242,\n",
       "       3797, 1248, 1450, 2750,  999, 1320, 4300, 1498, 1499, 1360, 1971,\n",
       "       3450, 1690, 5300, 4571, 1990, 1570, 1309, 1330])"
      ]
     },
     "execution_count": 78,
     "metadata": {},
     "output_type": "execute_result"
    }
   ],
   "source": [
    "data['CC'].unique()"
   ]
  },
  {
   "cell_type": "code",
   "execution_count": 79,
   "metadata": {},
   "outputs": [],
   "source": [
    "data['CC'] = data['CC'].astype(str).apply(lambda x :x.replace('CC',\"\"))"
   ]
  },
  {
   "cell_type": "code",
   "execution_count": 80,
   "metadata": {},
   "outputs": [],
   "source": [
    "data[data['CC'] == 'nan'] = 0\n",
    "data['CC'] = data['CC'].astype(int)"
   ]
  },
  {
   "cell_type": "code",
   "execution_count": 81,
   "metadata": {},
   "outputs": [],
   "source": [
    "data['Is_CC'] = data['CC'].apply(lambda x:True if x != 0  else False)"
   ]
  },
  {
   "cell_type": "code",
   "execution_count": 82,
   "metadata": {},
   "outputs": [
    {
     "data": {
      "text/plain": [
       "True     19067\n",
       "False    18678\n",
       "Name: Is_CC, dtype: int64"
      ]
     },
     "execution_count": 82,
     "metadata": {},
     "output_type": "execute_result"
    }
   ],
   "source": [
    "data['Is_CC'].value_counts()"
   ]
  },
  {
   "cell_type": "code",
   "execution_count": 84,
   "metadata": {},
   "outputs": [
    {
     "name": "stdout",
     "output_type": "stream",
     "text": [
      "for feature Km and it type is object\n",
      "Number of Nulls is 0\n",
      "Number of Unique Values is 605\n",
      "Random Value is 80,000 Km\n",
      "Random Value is 0\n",
      "Random Value is 9,000 Km\n",
      "\n",
      "==================================\n"
     ]
    }
   ],
   "source": [
    "show_column_details('Km')"
   ]
  },
  {
   "cell_type": "code",
   "execution_count": 87,
   "metadata": {},
   "outputs": [
    {
     "data": {
      "text/plain": [
       "0             18678\n",
       "0 Km           4865\n",
       "200,000 Km     1385\n",
       "150,000 Km      870\n",
       "130,000 Km      527\n",
       "              ...  \n",
       "3,650 Km          1\n",
       "96,500 Km         1\n",
       "176,500 Km        1\n",
       "22 Km             1\n",
       "1,600 Km          1\n",
       "Name: Km, Length: 605, dtype: int64"
      ]
     },
     "execution_count": 87,
     "metadata": {},
     "output_type": "execute_result"
    }
   ],
   "source": [
    "data['Km'].value_counts()"
   ]
  },
  {
   "cell_type": "code",
   "execution_count": null,
   "metadata": {},
   "outputs": [],
   "source": [
    "def replaceList(reList):\n",
    "    "
   ]
  },
  {
   "cell_type": "code",
   "execution_count": 92,
   "metadata": {},
   "outputs": [
    {
     "ename": "TypeError",
     "evalue": "replace() argument 1 must be str, not list",
     "output_type": "error",
     "traceback": [
      "\u001b[1;31m---------------------------------------------------------------------------\u001b[0m",
      "\u001b[1;31mTypeError\u001b[0m                                 Traceback (most recent call last)",
      "\u001b[1;32m<ipython-input-92-cccd9a1d2c8c>\u001b[0m in \u001b[0;36m<module>\u001b[1;34m\u001b[0m\n\u001b[1;32m----> 1\u001b[1;33m \u001b[0mdata\u001b[0m\u001b[1;33m[\u001b[0m\u001b[1;34m'Km'\u001b[0m\u001b[1;33m]\u001b[0m \u001b[1;33m=\u001b[0m \u001b[0mdata\u001b[0m\u001b[1;33m[\u001b[0m\u001b[1;34m'Km'\u001b[0m\u001b[1;33m]\u001b[0m\u001b[1;33m.\u001b[0m\u001b[0mastype\u001b[0m\u001b[1;33m(\u001b[0m\u001b[0mstr\u001b[0m\u001b[1;33m)\u001b[0m\u001b[1;33m.\u001b[0m\u001b[0mapply\u001b[0m\u001b[1;33m(\u001b[0m\u001b[1;32mlambda\u001b[0m \u001b[0mx\u001b[0m \u001b[1;33m:\u001b[0m\u001b[0mx\u001b[0m\u001b[1;33m.\u001b[0m\u001b[0mreplace\u001b[0m\u001b[1;33m(\u001b[0m\u001b[1;33m[\u001b[0m\u001b[1;34m'Km'\u001b[0m\u001b[1;33m,\u001b[0m\u001b[1;34m','\u001b[0m\u001b[1;33m]\u001b[0m\u001b[1;33m,\u001b[0m\u001b[1;33m[\u001b[0m\u001b[1;34m''\u001b[0m\u001b[1;33m,\u001b[0m\u001b[1;34m''\u001b[0m\u001b[1;33m]\u001b[0m\u001b[1;33m)\u001b[0m\u001b[1;33m)\u001b[0m\u001b[1;33m\u001b[0m\u001b[1;33m\u001b[0m\u001b[0m\n\u001b[0m",
      "\u001b[1;32m~\\anaconda3\\lib\\site-packages\\pandas\\core\\series.py\u001b[0m in \u001b[0;36mapply\u001b[1;34m(self, func, convert_dtype, args, **kwds)\u001b[0m\n\u001b[0;32m   3846\u001b[0m             \u001b[1;32melse\u001b[0m\u001b[1;33m:\u001b[0m\u001b[1;33m\u001b[0m\u001b[1;33m\u001b[0m\u001b[0m\n\u001b[0;32m   3847\u001b[0m                 \u001b[0mvalues\u001b[0m \u001b[1;33m=\u001b[0m \u001b[0mself\u001b[0m\u001b[1;33m.\u001b[0m\u001b[0mastype\u001b[0m\u001b[1;33m(\u001b[0m\u001b[0mobject\u001b[0m\u001b[1;33m)\u001b[0m\u001b[1;33m.\u001b[0m\u001b[0mvalues\u001b[0m\u001b[1;33m\u001b[0m\u001b[1;33m\u001b[0m\u001b[0m\n\u001b[1;32m-> 3848\u001b[1;33m                 \u001b[0mmapped\u001b[0m \u001b[1;33m=\u001b[0m \u001b[0mlib\u001b[0m\u001b[1;33m.\u001b[0m\u001b[0mmap_infer\u001b[0m\u001b[1;33m(\u001b[0m\u001b[0mvalues\u001b[0m\u001b[1;33m,\u001b[0m \u001b[0mf\u001b[0m\u001b[1;33m,\u001b[0m \u001b[0mconvert\u001b[0m\u001b[1;33m=\u001b[0m\u001b[0mconvert_dtype\u001b[0m\u001b[1;33m)\u001b[0m\u001b[1;33m\u001b[0m\u001b[1;33m\u001b[0m\u001b[0m\n\u001b[0m\u001b[0;32m   3849\u001b[0m \u001b[1;33m\u001b[0m\u001b[0m\n\u001b[0;32m   3850\u001b[0m         \u001b[1;32mif\u001b[0m \u001b[0mlen\u001b[0m\u001b[1;33m(\u001b[0m\u001b[0mmapped\u001b[0m\u001b[1;33m)\u001b[0m \u001b[1;32mand\u001b[0m \u001b[0misinstance\u001b[0m\u001b[1;33m(\u001b[0m\u001b[0mmapped\u001b[0m\u001b[1;33m[\u001b[0m\u001b[1;36m0\u001b[0m\u001b[1;33m]\u001b[0m\u001b[1;33m,\u001b[0m \u001b[0mSeries\u001b[0m\u001b[1;33m)\u001b[0m\u001b[1;33m:\u001b[0m\u001b[1;33m\u001b[0m\u001b[1;33m\u001b[0m\u001b[0m\n",
      "\u001b[1;32mpandas\\_libs\\lib.pyx\u001b[0m in \u001b[0;36mpandas._libs.lib.map_infer\u001b[1;34m()\u001b[0m\n",
      "\u001b[1;32m<ipython-input-92-cccd9a1d2c8c>\u001b[0m in \u001b[0;36m<lambda>\u001b[1;34m(x)\u001b[0m\n\u001b[1;32m----> 1\u001b[1;33m \u001b[0mdata\u001b[0m\u001b[1;33m[\u001b[0m\u001b[1;34m'Km'\u001b[0m\u001b[1;33m]\u001b[0m \u001b[1;33m=\u001b[0m \u001b[0mdata\u001b[0m\u001b[1;33m[\u001b[0m\u001b[1;34m'Km'\u001b[0m\u001b[1;33m]\u001b[0m\u001b[1;33m.\u001b[0m\u001b[0mastype\u001b[0m\u001b[1;33m(\u001b[0m\u001b[0mstr\u001b[0m\u001b[1;33m)\u001b[0m\u001b[1;33m.\u001b[0m\u001b[0mapply\u001b[0m\u001b[1;33m(\u001b[0m\u001b[1;32mlambda\u001b[0m \u001b[0mx\u001b[0m \u001b[1;33m:\u001b[0m\u001b[0mx\u001b[0m\u001b[1;33m.\u001b[0m\u001b[0mreplace\u001b[0m\u001b[1;33m(\u001b[0m\u001b[1;33m[\u001b[0m\u001b[1;34m'Km'\u001b[0m\u001b[1;33m,\u001b[0m\u001b[1;34m','\u001b[0m\u001b[1;33m]\u001b[0m\u001b[1;33m,\u001b[0m\u001b[1;33m[\u001b[0m\u001b[1;34m''\u001b[0m\u001b[1;33m,\u001b[0m\u001b[1;34m''\u001b[0m\u001b[1;33m]\u001b[0m\u001b[1;33m)\u001b[0m\u001b[1;33m)\u001b[0m\u001b[1;33m\u001b[0m\u001b[1;33m\u001b[0m\u001b[0m\n\u001b[0m",
      "\u001b[1;31mTypeError\u001b[0m: replace() argument 1 must be str, not list"
     ]
    }
   ],
   "source": [
    "data['Km'] = data['Km'].astype(str).apply(lambda x :x.replace('KM',''))"
   ]
  },
  {
   "cell_type": "code",
   "execution_count": 93,
   "metadata": {},
   "outputs": [
    {
     "ename": "ValueError",
     "evalue": "invalid literal for int() with base 10: '63,000 '",
     "output_type": "error",
     "traceback": [
      "\u001b[1;31m---------------------------------------------------------------------------\u001b[0m",
      "\u001b[1;31mValueError\u001b[0m                                Traceback (most recent call last)",
      "\u001b[1;32m<ipython-input-93-a1c1fef01556>\u001b[0m in \u001b[0;36m<module>\u001b[1;34m\u001b[0m\n\u001b[1;32m----> 1\u001b[1;33m \u001b[0mdata\u001b[0m\u001b[1;33m[\u001b[0m\u001b[1;34m'Km'\u001b[0m\u001b[1;33m]\u001b[0m \u001b[1;33m=\u001b[0m \u001b[0mdata\u001b[0m\u001b[1;33m[\u001b[0m\u001b[1;34m'Km'\u001b[0m\u001b[1;33m]\u001b[0m\u001b[1;33m.\u001b[0m\u001b[0mastype\u001b[0m\u001b[1;33m(\u001b[0m\u001b[0mint\u001b[0m\u001b[1;33m)\u001b[0m\u001b[1;33m\u001b[0m\u001b[1;33m\u001b[0m\u001b[0m\n\u001b[0m",
      "\u001b[1;32m~\\anaconda3\\lib\\site-packages\\pandas\\core\\generic.py\u001b[0m in \u001b[0;36mastype\u001b[1;34m(self, dtype, copy, errors)\u001b[0m\n\u001b[0;32m   5696\u001b[0m         \u001b[1;32melse\u001b[0m\u001b[1;33m:\u001b[0m\u001b[1;33m\u001b[0m\u001b[1;33m\u001b[0m\u001b[0m\n\u001b[0;32m   5697\u001b[0m             \u001b[1;31m# else, only a single dtype is given\u001b[0m\u001b[1;33m\u001b[0m\u001b[1;33m\u001b[0m\u001b[1;33m\u001b[0m\u001b[0m\n\u001b[1;32m-> 5698\u001b[1;33m             \u001b[0mnew_data\u001b[0m \u001b[1;33m=\u001b[0m \u001b[0mself\u001b[0m\u001b[1;33m.\u001b[0m\u001b[0m_data\u001b[0m\u001b[1;33m.\u001b[0m\u001b[0mastype\u001b[0m\u001b[1;33m(\u001b[0m\u001b[0mdtype\u001b[0m\u001b[1;33m=\u001b[0m\u001b[0mdtype\u001b[0m\u001b[1;33m,\u001b[0m \u001b[0mcopy\u001b[0m\u001b[1;33m=\u001b[0m\u001b[0mcopy\u001b[0m\u001b[1;33m,\u001b[0m \u001b[0merrors\u001b[0m\u001b[1;33m=\u001b[0m\u001b[0merrors\u001b[0m\u001b[1;33m)\u001b[0m\u001b[1;33m\u001b[0m\u001b[1;33m\u001b[0m\u001b[0m\n\u001b[0m\u001b[0;32m   5699\u001b[0m             \u001b[1;32mreturn\u001b[0m \u001b[0mself\u001b[0m\u001b[1;33m.\u001b[0m\u001b[0m_constructor\u001b[0m\u001b[1;33m(\u001b[0m\u001b[0mnew_data\u001b[0m\u001b[1;33m)\u001b[0m\u001b[1;33m.\u001b[0m\u001b[0m__finalize__\u001b[0m\u001b[1;33m(\u001b[0m\u001b[0mself\u001b[0m\u001b[1;33m)\u001b[0m\u001b[1;33m\u001b[0m\u001b[1;33m\u001b[0m\u001b[0m\n\u001b[0;32m   5700\u001b[0m \u001b[1;33m\u001b[0m\u001b[0m\n",
      "\u001b[1;32m~\\anaconda3\\lib\\site-packages\\pandas\\core\\internals\\managers.py\u001b[0m in \u001b[0;36mastype\u001b[1;34m(self, dtype, copy, errors)\u001b[0m\n\u001b[0;32m    580\u001b[0m \u001b[1;33m\u001b[0m\u001b[0m\n\u001b[0;32m    581\u001b[0m     \u001b[1;32mdef\u001b[0m \u001b[0mastype\u001b[0m\u001b[1;33m(\u001b[0m\u001b[0mself\u001b[0m\u001b[1;33m,\u001b[0m \u001b[0mdtype\u001b[0m\u001b[1;33m,\u001b[0m \u001b[0mcopy\u001b[0m\u001b[1;33m:\u001b[0m \u001b[0mbool\u001b[0m \u001b[1;33m=\u001b[0m \u001b[1;32mFalse\u001b[0m\u001b[1;33m,\u001b[0m \u001b[0merrors\u001b[0m\u001b[1;33m:\u001b[0m \u001b[0mstr\u001b[0m \u001b[1;33m=\u001b[0m \u001b[1;34m\"raise\"\u001b[0m\u001b[1;33m)\u001b[0m\u001b[1;33m:\u001b[0m\u001b[1;33m\u001b[0m\u001b[1;33m\u001b[0m\u001b[0m\n\u001b[1;32m--> 582\u001b[1;33m         \u001b[1;32mreturn\u001b[0m \u001b[0mself\u001b[0m\u001b[1;33m.\u001b[0m\u001b[0mapply\u001b[0m\u001b[1;33m(\u001b[0m\u001b[1;34m\"astype\"\u001b[0m\u001b[1;33m,\u001b[0m \u001b[0mdtype\u001b[0m\u001b[1;33m=\u001b[0m\u001b[0mdtype\u001b[0m\u001b[1;33m,\u001b[0m \u001b[0mcopy\u001b[0m\u001b[1;33m=\u001b[0m\u001b[0mcopy\u001b[0m\u001b[1;33m,\u001b[0m \u001b[0merrors\u001b[0m\u001b[1;33m=\u001b[0m\u001b[0merrors\u001b[0m\u001b[1;33m)\u001b[0m\u001b[1;33m\u001b[0m\u001b[1;33m\u001b[0m\u001b[0m\n\u001b[0m\u001b[0;32m    583\u001b[0m \u001b[1;33m\u001b[0m\u001b[0m\n\u001b[0;32m    584\u001b[0m     \u001b[1;32mdef\u001b[0m \u001b[0mconvert\u001b[0m\u001b[1;33m(\u001b[0m\u001b[0mself\u001b[0m\u001b[1;33m,\u001b[0m \u001b[1;33m**\u001b[0m\u001b[0mkwargs\u001b[0m\u001b[1;33m)\u001b[0m\u001b[1;33m:\u001b[0m\u001b[1;33m\u001b[0m\u001b[1;33m\u001b[0m\u001b[0m\n",
      "\u001b[1;32m~\\anaconda3\\lib\\site-packages\\pandas\\core\\internals\\managers.py\u001b[0m in \u001b[0;36mapply\u001b[1;34m(self, f, filter, **kwargs)\u001b[0m\n\u001b[0;32m    440\u001b[0m                 \u001b[0mapplied\u001b[0m \u001b[1;33m=\u001b[0m \u001b[0mb\u001b[0m\u001b[1;33m.\u001b[0m\u001b[0mapply\u001b[0m\u001b[1;33m(\u001b[0m\u001b[0mf\u001b[0m\u001b[1;33m,\u001b[0m \u001b[1;33m**\u001b[0m\u001b[0mkwargs\u001b[0m\u001b[1;33m)\u001b[0m\u001b[1;33m\u001b[0m\u001b[1;33m\u001b[0m\u001b[0m\n\u001b[0;32m    441\u001b[0m             \u001b[1;32melse\u001b[0m\u001b[1;33m:\u001b[0m\u001b[1;33m\u001b[0m\u001b[1;33m\u001b[0m\u001b[0m\n\u001b[1;32m--> 442\u001b[1;33m                 \u001b[0mapplied\u001b[0m \u001b[1;33m=\u001b[0m \u001b[0mgetattr\u001b[0m\u001b[1;33m(\u001b[0m\u001b[0mb\u001b[0m\u001b[1;33m,\u001b[0m \u001b[0mf\u001b[0m\u001b[1;33m)\u001b[0m\u001b[1;33m(\u001b[0m\u001b[1;33m**\u001b[0m\u001b[0mkwargs\u001b[0m\u001b[1;33m)\u001b[0m\u001b[1;33m\u001b[0m\u001b[1;33m\u001b[0m\u001b[0m\n\u001b[0m\u001b[0;32m    443\u001b[0m             \u001b[0mresult_blocks\u001b[0m \u001b[1;33m=\u001b[0m \u001b[0m_extend_blocks\u001b[0m\u001b[1;33m(\u001b[0m\u001b[0mapplied\u001b[0m\u001b[1;33m,\u001b[0m \u001b[0mresult_blocks\u001b[0m\u001b[1;33m)\u001b[0m\u001b[1;33m\u001b[0m\u001b[1;33m\u001b[0m\u001b[0m\n\u001b[0;32m    444\u001b[0m \u001b[1;33m\u001b[0m\u001b[0m\n",
      "\u001b[1;32m~\\anaconda3\\lib\\site-packages\\pandas\\core\\internals\\blocks.py\u001b[0m in \u001b[0;36mastype\u001b[1;34m(self, dtype, copy, errors)\u001b[0m\n\u001b[0;32m    623\u001b[0m             \u001b[0mvals1d\u001b[0m \u001b[1;33m=\u001b[0m \u001b[0mvalues\u001b[0m\u001b[1;33m.\u001b[0m\u001b[0mravel\u001b[0m\u001b[1;33m(\u001b[0m\u001b[1;33m)\u001b[0m\u001b[1;33m\u001b[0m\u001b[1;33m\u001b[0m\u001b[0m\n\u001b[0;32m    624\u001b[0m             \u001b[1;32mtry\u001b[0m\u001b[1;33m:\u001b[0m\u001b[1;33m\u001b[0m\u001b[1;33m\u001b[0m\u001b[0m\n\u001b[1;32m--> 625\u001b[1;33m                 \u001b[0mvalues\u001b[0m \u001b[1;33m=\u001b[0m \u001b[0mastype_nansafe\u001b[0m\u001b[1;33m(\u001b[0m\u001b[0mvals1d\u001b[0m\u001b[1;33m,\u001b[0m \u001b[0mdtype\u001b[0m\u001b[1;33m,\u001b[0m \u001b[0mcopy\u001b[0m\u001b[1;33m=\u001b[0m\u001b[1;32mTrue\u001b[0m\u001b[1;33m)\u001b[0m\u001b[1;33m\u001b[0m\u001b[1;33m\u001b[0m\u001b[0m\n\u001b[0m\u001b[0;32m    626\u001b[0m             \u001b[1;32mexcept\u001b[0m \u001b[1;33m(\u001b[0m\u001b[0mValueError\u001b[0m\u001b[1;33m,\u001b[0m \u001b[0mTypeError\u001b[0m\u001b[1;33m)\u001b[0m\u001b[1;33m:\u001b[0m\u001b[1;33m\u001b[0m\u001b[1;33m\u001b[0m\u001b[0m\n\u001b[0;32m    627\u001b[0m                 \u001b[1;31m# e.g. astype_nansafe can fail on object-dtype of strings\u001b[0m\u001b[1;33m\u001b[0m\u001b[1;33m\u001b[0m\u001b[1;33m\u001b[0m\u001b[0m\n",
      "\u001b[1;32m~\\anaconda3\\lib\\site-packages\\pandas\\core\\dtypes\\cast.py\u001b[0m in \u001b[0;36mastype_nansafe\u001b[1;34m(arr, dtype, copy, skipna)\u001b[0m\n\u001b[0;32m    872\u001b[0m         \u001b[1;31m# work around NumPy brokenness, #1987\u001b[0m\u001b[1;33m\u001b[0m\u001b[1;33m\u001b[0m\u001b[1;33m\u001b[0m\u001b[0m\n\u001b[0;32m    873\u001b[0m         \u001b[1;32mif\u001b[0m \u001b[0mnp\u001b[0m\u001b[1;33m.\u001b[0m\u001b[0missubdtype\u001b[0m\u001b[1;33m(\u001b[0m\u001b[0mdtype\u001b[0m\u001b[1;33m.\u001b[0m\u001b[0mtype\u001b[0m\u001b[1;33m,\u001b[0m \u001b[0mnp\u001b[0m\u001b[1;33m.\u001b[0m\u001b[0minteger\u001b[0m\u001b[1;33m)\u001b[0m\u001b[1;33m:\u001b[0m\u001b[1;33m\u001b[0m\u001b[1;33m\u001b[0m\u001b[0m\n\u001b[1;32m--> 874\u001b[1;33m             \u001b[1;32mreturn\u001b[0m \u001b[0mlib\u001b[0m\u001b[1;33m.\u001b[0m\u001b[0mastype_intsafe\u001b[0m\u001b[1;33m(\u001b[0m\u001b[0marr\u001b[0m\u001b[1;33m.\u001b[0m\u001b[0mravel\u001b[0m\u001b[1;33m(\u001b[0m\u001b[1;33m)\u001b[0m\u001b[1;33m,\u001b[0m \u001b[0mdtype\u001b[0m\u001b[1;33m)\u001b[0m\u001b[1;33m.\u001b[0m\u001b[0mreshape\u001b[0m\u001b[1;33m(\u001b[0m\u001b[0marr\u001b[0m\u001b[1;33m.\u001b[0m\u001b[0mshape\u001b[0m\u001b[1;33m)\u001b[0m\u001b[1;33m\u001b[0m\u001b[1;33m\u001b[0m\u001b[0m\n\u001b[0m\u001b[0;32m    875\u001b[0m \u001b[1;33m\u001b[0m\u001b[0m\n\u001b[0;32m    876\u001b[0m         \u001b[1;31m# if we have a datetime/timedelta array of objects\u001b[0m\u001b[1;33m\u001b[0m\u001b[1;33m\u001b[0m\u001b[1;33m\u001b[0m\u001b[0m\n",
      "\u001b[1;32mpandas\\_libs\\lib.pyx\u001b[0m in \u001b[0;36mpandas._libs.lib.astype_intsafe\u001b[1;34m()\u001b[0m\n",
      "\u001b[1;31mValueError\u001b[0m: invalid literal for int() with base 10: '63,000 '"
     ]
    }
   ],
   "source": [
    "data['Km'] = data['Km'].astype(int)"
   ]
  },
  {
   "cell_type": "code",
   "execution_count": 94,
   "metadata": {},
   "outputs": [
    {
     "name": "stdout",
     "output_type": "stream",
     "text": [
      "for feature Transmission and it type is object\n",
      "Number of Nulls is 0\n",
      "Number of Unique Values is 5\n",
      "Random Value is 0\n",
      "Random Value is automatic\n",
      "Random Value is automatic\n",
      "\n",
      "==================================\n"
     ]
    }
   ],
   "source": [
    "show_column_details('Transmission')"
   ]
  },
  {
   "cell_type": "code",
   "execution_count": 96,
   "metadata": {},
   "outputs": [
    {
     "data": {
      "text/plain": [
       "0            18678\n",
       "manual       10716\n",
       "automatic     8348\n",
       "CVT              2\n",
       "DSG              1\n",
       "Name: Transmission, dtype: int64"
      ]
     },
     "execution_count": 96,
     "metadata": {},
     "output_type": "execute_result"
    }
   ],
   "source": [
    "data['Transmission'].value_counts()"
   ]
  },
  {
   "cell_type": "code",
   "execution_count": 97,
   "metadata": {},
   "outputs": [
    {
     "name": "stdout",
     "output_type": "stream",
     "text": [
      "for feature City and it type is object\n",
      "Number of Nulls is 0\n",
      "Number of Unique Values is 99\n",
      "Random Value is Damietta\n",
      "Random Value is Damietta\n",
      "Random Value is Alexandria\n",
      "\n",
      "==================================\n"
     ]
    }
   ],
   "source": [
    "show_column_details('City')"
   ]
  },
  {
   "cell_type": "code",
   "execution_count": 98,
   "metadata": {},
   "outputs": [
    {
     "name": "stdout",
     "output_type": "stream",
     "text": [
      "for feature Color and it type is object\n",
      "Number of Nulls is 0\n",
      "Number of Unique Values is 25\n",
      "Random Value is Red\n",
      "Random Value is 0\n",
      "Random Value is White\n",
      "\n",
      "==================================\n"
     ]
    }
   ],
   "source": [
    "show_column_details('Color')"
   ]
  },
  {
   "cell_type": "code",
   "execution_count": 99,
   "metadata": {},
   "outputs": [
    {
     "name": "stdout",
     "output_type": "stream",
     "text": [
      "for feature Body Style and it type is object\n",
      "Number of Nulls is 1\n",
      "Number of Unique Values is 13\n",
      "Random Value is 0\n",
      "Random Value is 0\n",
      "Random Value is Sedan\n",
      "\n",
      "==================================\n"
     ]
    }
   ],
   "source": [
    "show_column_details('Body Style')"
   ]
  },
  {
   "cell_type": "code",
   "execution_count": 100,
   "metadata": {},
   "outputs": [
    {
     "data": {
      "text/plain": [
       "0                     18678\n",
       "Sedan                 13338\n",
       "Hatchback              2764\n",
       "4x4                    1270\n",
       "SUV                     489\n",
       "Van                     474\n",
       "MiniVans                349\n",
       "Pick up                 295\n",
       "Coupe                    63\n",
       "Microbus                 19\n",
       "Medium truck jumbo        4\n",
       "Mini Pick up              1\n",
       "Name: Body Style, dtype: int64"
      ]
     },
     "execution_count": 100,
     "metadata": {},
     "output_type": "execute_result"
    }
   ],
   "source": [
    "data['Body Style'].value_counts()"
   ]
  },
  {
   "cell_type": "code",
   "execution_count": 101,
   "metadata": {},
   "outputs": [
    {
     "name": "stdout",
     "output_type": "stream",
     "text": [
      "for feature Fuel and it type is object\n",
      "Number of Nulls is 0\n",
      "Number of Unique Values is 6\n",
      "Random Value is gas\n",
      "Random Value is gas\n",
      "Random Value is Hybrid\n",
      "\n",
      "==================================\n"
     ]
    }
   ],
   "source": [
    "show_column_details('Fuel')"
   ]
  },
  {
   "cell_type": "code",
   "execution_count": 102,
   "metadata": {},
   "outputs": [
    {
     "data": {
      "text/plain": [
       "gas            18869\n",
       "0              18678\n",
       "natural gas       76\n",
       "diesel            74\n",
       "Hybrid            45\n",
       "Electric           3\n",
       "Name: Fuel, dtype: int64"
      ]
     },
     "execution_count": 102,
     "metadata": {},
     "output_type": "execute_result"
    }
   ],
   "source": [
    "data['Fuel'].value_counts()"
   ]
  },
  {
   "cell_type": "code",
   "execution_count": null,
   "metadata": {},
   "outputs": [],
   "source": []
  }
 ],
 "metadata": {
  "kernelspec": {
   "display_name": "Python 3",
   "language": "python",
   "name": "python3"
  },
  "language_info": {
   "codemirror_mode": {
    "name": "ipython",
    "version": 3
   },
   "file_extension": ".py",
   "mimetype": "text/x-python",
   "name": "python",
   "nbconvert_exporter": "python",
   "pygments_lexer": "ipython3",
   "version": "3.7.6"
  }
 },
 "nbformat": 4,
 "nbformat_minor": 4
}
